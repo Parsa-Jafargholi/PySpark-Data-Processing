{
 "cells": [
  {
   "cell_type": "code",
   "execution_count": null,
   "metadata": {
    "colab": {
     "base_uri": "https://localhost:8080/"
    },
    "id": "xurSNwsqSVzN",
    "outputId": "88846d69-9774-4dd7-bb7f-b2513586f350"
   },
   "outputs": [
    {
     "name": "stdout",
     "output_type": "stream",
     "text": [
      "Collecting pyspark\n",
      "  Downloading pyspark-3.5.0.tar.gz (316.9 MB)\n",
      "\u001b[2K     \u001b[90m━━━━━━━━━━━━━━━━━━━━━━━━━━━━━━━━━━━━━━━━\u001b[0m \u001b[32m316.9/316.9 MB\u001b[0m \u001b[31m5.0 MB/s\u001b[0m eta \u001b[36m0:00:00\u001b[0m\n",
      "\u001b[?25h  Preparing metadata (setup.py) ... \u001b[?25l\u001b[?25hdone\n",
      "Requirement already satisfied: py4j==0.10.9.7 in /usr/local/lib/python3.10/dist-packages (from pyspark) (0.10.9.7)\n",
      "Building wheels for collected packages: pyspark\n",
      "  Building wheel for pyspark (setup.py) ... \u001b[?25l\u001b[?25hdone\n",
      "  Created wheel for pyspark: filename=pyspark-3.5.0-py2.py3-none-any.whl size=317425344 sha256=1707381d3d3c91bc7c2d53c78dd0ff7f854b39dd62bf63de783bedf203c91b09\n",
      "  Stored in directory: /root/.cache/pip/wheels/41/4e/10/c2cf2467f71c678cfc8a6b9ac9241e5e44a01940da8fbb17fc\n",
      "Successfully built pyspark\n",
      "Installing collected packages: pyspark\n",
      "Successfully installed pyspark-3.5.0\n"
     ]
    }
   ],
   "source": [
    "!pip install pyspark"
   ]
  },
  {
   "cell_type": "code",
   "execution_count": null,
   "metadata": {
    "id": "PinI-PPI2Owh"
   },
   "outputs": [],
   "source": [
    "import pyspark\n",
    "from pyspark.sql import *\n",
    "from pyspark.sql.functions import *\n",
    "from pyspark import SparkContext, SparkConf"
   ]
  },
  {
   "cell_type": "code",
   "execution_count": null,
   "metadata": {
    "id": "P7cW8-VC17pQ"
   },
   "outputs": [],
   "source": [
    "# create the session\n",
    "conf = SparkConf().set(\"spark.ui.port\", \"4050\")\n",
    "\n",
    "# create the context\n",
    "sc = pyspark.SparkContext(conf=conf)\n",
    "spark = SparkSession.builder.getOrCreate()"
   ]
  },
  {
   "cell_type": "code",
   "execution_count": null,
   "metadata": {
    "colab": {
     "base_uri": "https://localhost:8080/",
     "height": 219
    },
    "id": "6QcDt-Xr18pz",
    "outputId": "f53453f2-f009-41b8-d16c-3f8584a9d390"
   },
   "outputs": [
    {
     "data": {
      "text/html": [
       "\n",
       "            <div>\n",
       "                <p><b>SparkSession - in-memory</b></p>\n",
       "                \n",
       "        <div>\n",
       "            <p><b>SparkContext</b></p>\n",
       "\n",
       "            <p><a href=\"http://b590938397b6:4050\">Spark UI</a></p>\n",
       "\n",
       "            <dl>\n",
       "              <dt>Version</dt>\n",
       "                <dd><code>v3.5.0</code></dd>\n",
       "              <dt>Master</dt>\n",
       "                <dd><code>local[*]</code></dd>\n",
       "              <dt>AppName</dt>\n",
       "                <dd><code>pyspark-shell</code></dd>\n",
       "            </dl>\n",
       "        </div>\n",
       "        \n",
       "            </div>\n",
       "        "
      ],
      "text/plain": [
       "<pyspark.sql.session.SparkSession at 0x7dfd1f168b20>"
      ]
     },
     "execution_count": 4,
     "metadata": {},
     "output_type": "execute_result"
    }
   ],
   "source": [
    "spark"
   ]
  },
  {
   "cell_type": "code",
   "execution_count": null,
   "metadata": {
    "colab": {
     "base_uri": "https://localhost:8080/"
    },
    "id": "qb2v5u7Y66BX",
    "outputId": "663a042c-d1a6-4d62-c68f-c00431431e9a"
   },
   "outputs": [
    {
     "name": "stdout",
     "output_type": "stream",
     "text": [
      "--2023-11-02 12:26:37--  https://bigdata-ir.com/wp-content/uploads/2020/12/digikala_datasetwww.bigdata-ir.com_.zip\n",
      "Resolving bigdata-ir.com (bigdata-ir.com)... 51.254.162.25\n",
      "Connecting to bigdata-ir.com (bigdata-ir.com)|51.254.162.25|:443... connected.\n",
      "HTTP request sent, awaiting response... 200 OK\n",
      "Length: 81695907 (78M) [application/zip]\n",
      "Saving to: ‘digikala_datasetwww.bigdata-ir.com_.zip’\n",
      "\n",
      "digikala_datasetwww 100%[===================>]  77.91M  20.2MB/s    in 5.8s    \n",
      "\n",
      "2023-11-02 12:26:44 (13.5 MB/s) - ‘digikala_datasetwww.bigdata-ir.com_.zip’ saved [81695907/81695907]\n",
      "\n"
     ]
    }
   ],
   "source": [
    "!wget https://bigdata-ir.com/wp-content/uploads/2020/12/digikala_datasetwww.bigdata-ir.com_.zip"
   ]
  },
  {
   "cell_type": "code",
   "execution_count": null,
   "metadata": {
    "colab": {
     "base_uri": "https://localhost:8080/"
    },
    "id": "lbUZCQvi0VEt",
    "outputId": "b1f496b1-a2a3-4a67-a66f-ccff77de8c00"
   },
   "outputs": [
    {
     "name": "stdout",
     "output_type": "stream",
     "text": [
      "Archive:  digikala_datasetwww.bigdata-ir.com_.zip\n",
      "   creating: digikala_dataset[www.bigdata-ir.com]/\n",
      "  inflating: digikala_dataset[www.bigdata-ir.com]/comment.xlsx  \n",
      "  inflating: digikala_dataset[www.bigdata-ir.com]/keifiat.xlsx  \n",
      "  inflating: digikala_dataset[www.bigdata-ir.com]/orders.csv  \n",
      "  inflating: digikala_dataset[www.bigdata-ir.com]/product.xlsx  \n",
      "  inflating: digikala_dataset[www.bigdata-ir.com]/tarikhche kharid.csv  \n"
     ]
    }
   ],
   "source": [
    "!unzip digikala_datasetwww.bigdata-ir.com_.zip"
   ]
  },
  {
   "cell_type": "code",
   "execution_count": null,
   "metadata": {
    "id": "L7zh-l1u0_vU"
   },
   "outputs": [],
   "source": [
    "import os\n",
    "os.rename('digikala_dataset[www.bigdata-ir.com]', 'digikala_dataset')"
   ]
  },
  {
   "cell_type": "code",
   "execution_count": null,
   "metadata": {
    "id": "mjlWpJe8A94h"
   },
   "outputs": [],
   "source": [
    "orders_df = spark.read.csv(\"digikala_dataset/orders.csv\" , header=True)"
   ]
  },
  {
   "cell_type": "code",
   "execution_count": null,
   "metadata": {
    "colab": {
     "base_uri": "https://localhost:8080/"
    },
    "id": "8yup3483BzA7",
    "outputId": "98a6f147-1c10-4936-b988-0efd531e47ae"
   },
   "outputs": [
    {
     "name": "stdout",
     "output_type": "stream",
     "text": [
      "root\n",
      " |-- ID_Order: string (nullable = true)\n",
      " |-- ID_Customer: string (nullable = true)\n",
      " |-- ID_Item: string (nullable = true)\n",
      " |-- DateTime_CartFinalize: string (nullable = true)\n",
      " |-- Amount_Gross_Order: string (nullable = true)\n",
      " |-- city_name_fa: string (nullable = true)\n",
      " |-- Quantity_item: string (nullable = true)\n",
      "\n"
     ]
    }
   ],
   "source": [
    "orders_df.printSchema()"
   ]
  },
  {
   "cell_type": "code",
   "execution_count": null,
   "metadata": {
    "colab": {
     "base_uri": "https://localhost:8080/"
    },
    "id": "_pFE0tlF7Nih",
    "outputId": "12f0e353-14d3-426f-e581-94fddfb964fa"
   },
   "outputs": [
    {
     "name": "stdout",
     "output_type": "stream",
     "text": [
      "root\n",
      " |-- ID_Order: integer (nullable = true)\n",
      " |-- ID_Customer: integer (nullable = true)\n",
      " |-- ID_Item: integer (nullable = true)\n",
      " |-- DateTime_CartFinalize: timestamp (nullable = true)\n",
      " |-- Amount_Gross_Order: double (nullable = true)\n",
      " |-- city_name_fa: string (nullable = true)\n",
      " |-- Quantity_item: double (nullable = true)\n",
      "\n"
     ]
    }
   ],
   "source": [
    "orders_df = spark.read.csv(\"digikala_dataset/orders.csv\" , header=True, inferSchema=True)\n",
    "orders_df.printSchema()"
   ]
  },
  {
   "cell_type": "code",
   "execution_count": null,
   "metadata": {
    "colab": {
     "base_uri": "https://localhost:8080/"
    },
    "id": "DpnN3vAZiLev",
    "outputId": "51b91bdc-b815-48a2-c5e6-30f7658baafa"
   },
   "outputs": [
    {
     "name": "stdout",
     "output_type": "stream",
     "text": [
      "+--------+-----------+-------+---------------------+------------------+------------+-------------+\n",
      "|ID_Order|ID_Customer|ID_Item|DateTime_CartFinalize|Amount_Gross_Order|city_name_fa|Quantity_item|\n",
      "+--------+-----------+-------+---------------------+------------------+------------+-------------+\n",
      "| 2714054|     469662|  21386|  2015-10-15 08:50:56|          597982.0|  محمود آباد|          1.0|\n",
      "|11104039|    3063877| 248497|  2018-02-11 00:29:26|          980000.0|      خرمدره|          1.0|\n",
      "| 4228130|    3184893|  50144|  2016-06-14 00:30:08|          229358.0|        قرچک|          1.0|\n",
      "|22225624|    6888562|  70208|  2018-09-03 14:37:19|           16514.0|          قم|          1.0|\n",
      "| 4068771|    2533490|  67627|  2016-05-21 11:51:02|          133028.0|       تهران|          1.0|\n",
      "|11479246|    2841640| 312932|  2018-03-01 12:07:15|          290000.0|        مشهد|          1.0|\n",
      "| 8267421|    5235886|  42365|  2017-08-19 13:30:24|           55046.0|      اصفهان|          1.0|\n",
      "|11588978|    5574955| 715680|  2018-03-04 19:19:02|         2790000.0|         رشت|          1.0|\n",
      "| 9916301|    1145709| 102588|  2017-12-11 19:33:59|           34862.0|       تهران|          1.0|\n",
      "|10740652|    4928230| 658519|  2018-01-23 06:11:34|         2600000.0|      خرمشهر|          1.0|\n",
      "+--------+-----------+-------+---------------------+------------------+------------+-------------+\n",
      "only showing top 10 rows\n",
      "\n"
     ]
    }
   ],
   "source": [
    "orders_df.show(10)"
   ]
  },
  {
   "cell_type": "code",
   "execution_count": null,
   "metadata": {
    "colab": {
     "base_uri": "https://localhost:8080/"
    },
    "id": "cnxtmsxw7VzE",
    "outputId": "8183cebb-e5fd-4020-f3ad-96114784355b"
   },
   "outputs": [
    {
     "data": {
      "text/plain": [
       "200000"
      ]
     },
     "execution_count": 12,
     "metadata": {},
     "output_type": "execute_result"
    }
   ],
   "source": [
    "orders_df.count()"
   ]
  },
  {
   "cell_type": "code",
   "execution_count": null,
   "metadata": {
    "colab": {
     "base_uri": "https://localhost:8080/"
    },
    "id": "XyUBnKBL7fIs",
    "outputId": "27a24c0d-2f0a-46e9-a3df-6ed0b4e026fd"
   },
   "outputs": [
    {
     "name": "stdout",
     "output_type": "stream",
     "text": [
      "+--------+-----------+-------+---------------------+------------------+------------+-------------+\n",
      "|ID_Order|ID_Customer|ID_Item|DateTime_CartFinalize|Amount_Gross_Order|city_name_fa|Quantity_item|\n",
      "+--------+-----------+-------+---------------------+------------------+------------+-------------+\n",
      "| 2714054|     469662|  21386|  2015-10-15 08:50:56|          597982.0|  محمود آباد|          1.0|\n",
      "|11104039|    3063877| 248497|  2018-02-11 00:29:26|          980000.0|      خرمدره|          1.0|\n",
      "| 4228130|    3184893|  50144|  2016-06-14 00:30:08|          229358.0|        قرچک|          1.0|\n",
      "|22225624|    6888562|  70208|  2018-09-03 14:37:19|           16514.0|          قم|          1.0|\n",
      "| 4068771|    2533490|  67627|  2016-05-21 11:51:02|          133028.0|       تهران|          1.0|\n",
      "+--------+-----------+-------+---------------------+------------------+------------+-------------+\n",
      "only showing top 5 rows\n",
      "\n"
     ]
    }
   ],
   "source": [
    "orders_df.show(5)"
   ]
  },
  {
   "cell_type": "code",
   "execution_count": null,
   "metadata": {
    "colab": {
     "base_uri": "https://localhost:8080/"
    },
    "id": "R-DnCh7g94ok",
    "outputId": "2c46f8c8-bc50-414d-978b-29c124401f1d"
   },
   "outputs": [
    {
     "name": "stdout",
     "output_type": "stream",
     "text": [
      "+--------+-----------+-------+---------------------+\n",
      "|ID_Order|ID_Customer|ID_Item|DateTime_CartFinalize|\n",
      "+--------+-----------+-------+---------------------+\n",
      "| 2714054|     469662|  21386|  2015-10-15 08:50:56|\n",
      "|11104039|    3063877| 248497|  2018-02-11 00:29:26|\n",
      "| 4228130|    3184893|  50144|  2016-06-14 00:30:08|\n",
      "|22225624|    6888562|  70208|  2018-09-03 14:37:19|\n",
      "| 4068771|    2533490|  67627|  2016-05-21 11:51:02|\n",
      "+--------+-----------+-------+---------------------+\n",
      "only showing top 5 rows\n",
      "\n"
     ]
    }
   ],
   "source": [
    "orders_df=orders_df.drop(orders_df.Amount_Gross_Order,orders_df.city_name_fa ,orders_df.Quantity_item)\n",
    "orders_df.show(5)"
   ]
  },
  {
   "cell_type": "code",
   "execution_count": null,
   "metadata": {
    "colab": {
     "base_uri": "https://localhost:8080/"
    },
    "id": "HenZAlbrilpI",
    "outputId": "2dcab6d6-75c7-4c4d-f7d9-27e8c27e1d86"
   },
   "outputs": [
    {
     "name": "stdout",
     "output_type": "stream",
     "text": [
      "+--------+-----------+-------+---------------------+\n",
      "|ID_Order|ID_Customer|ID_Item|DateTime_CartFinalize|\n",
      "+--------+-----------+-------+---------------------+\n",
      "| 2714054|     469662|  21386|  2015-10-15 08:50:56|\n",
      "|11104039|    3063877| 248497|  2018-02-11 00:29:26|\n",
      "| 4228130|    3184893|  50144|  2016-06-14 00:30:08|\n",
      "|22225624|    6888562|  70208|  2018-09-03 14:37:19|\n",
      "| 4068771|    2533490|  67627|  2016-05-21 11:51:02|\n",
      "+--------+-----------+-------+---------------------+\n",
      "only showing top 5 rows\n",
      "\n"
     ]
    }
   ],
   "source": [
    "orders_df=orders_df.drop('Amount_Gross_Order','city_name_fa' ,'Quantity_item')\n",
    "orders_df.show(5)"
   ]
  },
  {
   "cell_type": "markdown",
   "metadata": {
    "id": "i39ns5ZWTeBq"
   },
   "source": []
  },
  {
   "cell_type": "code",
   "execution_count": null,
   "metadata": {
    "colab": {
     "base_uri": "https://localhost:8080/"
    },
    "id": "TOIDSJAM7iv0",
    "outputId": "8c432116-899f-42cd-dd67-4b0c6749ced7"
   },
   "outputs": [
    {
     "name": "stdout",
     "output_type": "stream",
     "text": [
      "+--------+------------------+-------------+---------+----------+---------+-----------+--------+------+----+---------------------+------+-------------------+----------+---------------------+\n",
      "|      id|product_variant_id|selling_price|rrp_price|base_price|buy_price|order_limit|start_at|end_at|tags|show_in_price_history|active|         created_at|product_id|marketplace_seller_id|\n",
      "+--------+------------------+-------------+---------+----------+---------+-----------+--------+------+----+---------------------+------+-------------------+----------+---------------------+\n",
      "|18752043|           1977385|       850000|   850000|        \\N|       \\N|          1|      \\N|    \\N|  \\N|                    1|     1|2018-11-26 18:59:52|    667969|                 2962|\n",
      "|18752022|           1977380|     12550000| 12550000|        \\N|       \\N|          2|      \\N|    \\N|  \\N|                    1|     0|2018-11-26 18:59:31|    150144|                78525|\n",
      "|18752046|           1977380|     12500000| 12500000|        \\N|       \\N|          2|      \\N|    \\N|  \\N|                    1|     1|2018-11-26 18:59:55|    150144|                78525|\n",
      "|18751982|           1977374|       310000|   310000|        \\N|       \\N|          2|      \\N|    \\N|  \\N|                    1|     0|2018-11-26 18:58:48|    908541|                 4199|\n",
      "|18752018|           1977374|       300000|   300000|        \\N|       \\N|          2|      \\N|    \\N|  \\N|                    1|     1|2018-11-26 18:59:28|    908541|                 4199|\n",
      "|18751959|           1977367|     15500000| 15500000|        \\N|       \\N|          2|      \\N|    \\N|  \\N|                    1|     0|2018-11-26 18:58:19|    150144|                78525|\n",
      "|18752064|           1977367|     12500000| 12500000|        \\N|       \\N|          2|      \\N|    \\N|  \\N|                    1|     1|2018-11-26 19:00:16|    150144|                78525|\n",
      "|18751958|           1977366|       750000|   750000|        \\N|       \\N|          2|      \\N|    \\N|  \\N|                    1|     1|2018-11-26 18:58:19|    197348|                11436|\n",
      "|18751880|           1977358|     15800000| 15800000|        \\N|       \\N|          2|      \\N|    \\N|  \\N|                    1|     1|2018-11-26 18:56:59|    150144|                78525|\n",
      "|18751863|           1977354|      3500000|  3500000|        \\N|       \\N|          2|      \\N|    \\N|  \\N|                    1|     1|2018-11-26 18:56:47|    485078|                66785|\n",
      "|18751736|           1977341|      1940000|  1940000|        \\N|       \\N|          2|      \\N|    \\N|  \\N|                    1|     1|2018-11-26 18:54:30|    955126|                59190|\n",
      "|18751716|           1977336|      1940000|  1940000|        \\N|       \\N|          2|      \\N|    \\N|  \\N|                    1|     1|2018-11-26 18:54:09|    955126|                59190|\n",
      "|18751700|           1977334|       317000|   317000|        \\N|       \\N|          2|      \\N|    \\N|  \\N|                    1|     1|2018-11-26 18:53:54|    300629|                79868|\n",
      "|18751633|           1977325|       850000|   850000|        \\N|       \\N|          2|      \\N|    \\N|  \\N|                    1|     1|2018-11-26 18:52:41|    480404|                11436|\n",
      "|18751578|           1977319|       210000|   210000|        \\N|       \\N|          5|      \\N|    \\N|  \\N|                    1|     1|2018-11-26 18:51:56|    771136|                83712|\n",
      "|18751563|           1977316|     15950000| 15950000|        \\N|       \\N|          2|      \\N|    \\N|  \\N|                    1|     1|2018-11-26 18:51:39|    872176|                  570|\n",
      "|18751527|           1977306|        77000|    77000|        \\N|       \\N|          5|      \\N|    \\N|  \\N|                    1|     1|2018-11-26 18:50:56|    726457|                83712|\n",
      "|18751497|           1977298|      6200000|  6200000|        \\N|       \\N|          1|      \\N|    \\N|  \\N|                    1|     1|2018-11-26 18:50:32|    129573|                79924|\n",
      "|18751461|           1977293|        65000|    65000|        \\N|       \\N|         10|      \\N|    \\N|  \\N|                    1|     1|2018-11-26 18:49:49|    837305|                83712|\n",
      "|18751451|           1977292|     26990000| 26990000|        \\N|       \\N|          2|      \\N|    \\N|  \\N|                    1|     1|2018-11-26 18:49:35|    879029|                  570|\n",
      "+--------+------------------+-------------+---------+----------+---------+-----------+--------+------+----+---------------------+------+-------------------+----------+---------------------+\n",
      "only showing top 20 rows\n",
      "\n"
     ]
    }
   ],
   "source": [
    "tarikhe_kharid_df = spark.read.csv(\"digikala_dataset/tarikhche kharid.csv\" , header=True)\n",
    "tarikhe_kharid_df.show()"
   ]
  },
  {
   "cell_type": "code",
   "execution_count": null,
   "metadata": {
    "colab": {
     "base_uri": "https://localhost:8080/"
    },
    "id": "TcW1Q-GtFd45",
    "outputId": "a40f7d38-c3dd-4346-90d9-1921d6a667ec"
   },
   "outputs": [
    {
     "name": "stdout",
     "output_type": "stream",
     "text": [
      "+--------+-------------+----------+\n",
      "|      id|selling_price|product_id|\n",
      "+--------+-------------+----------+\n",
      "|18752043|       850000|    667969|\n",
      "|18752022|     12550000|    150144|\n",
      "|18752046|     12500000|    150144|\n",
      "|18751982|       310000|    908541|\n",
      "|18752018|       300000|    908541|\n",
      "|18751959|     15500000|    150144|\n",
      "|18752064|     12500000|    150144|\n",
      "|18751958|       750000|    197348|\n",
      "|18751880|     15800000|    150144|\n",
      "|18751863|      3500000|    485078|\n",
      "|18751736|      1940000|    955126|\n",
      "|18751716|      1940000|    955126|\n",
      "|18751700|       317000|    300629|\n",
      "|18751633|       850000|    480404|\n",
      "|18751578|       210000|    771136|\n",
      "|18751563|     15950000|    872176|\n",
      "|18751527|        77000|    726457|\n",
      "|18751497|      6200000|    129573|\n",
      "|18751461|        65000|    837305|\n",
      "|18751451|     26990000|    879029|\n",
      "+--------+-------------+----------+\n",
      "only showing top 20 rows\n",
      "\n"
     ]
    }
   ],
   "source": [
    "tarikhe_kharid_df = tarikhe_kharid_df.select(tarikhe_kharid_df.id, tarikhe_kharid_df.selling_price, tarikhe_kharid_df.product_id)\n",
    "tarikhe_kharid_df.show()"
   ]
  },
  {
   "cell_type": "code",
   "execution_count": null,
   "metadata": {
    "colab": {
     "base_uri": "https://localhost:8080/"
    },
    "id": "JaKNAOBELe3b",
    "outputId": "4a237110-79ac-4b7d-ea43-fcd6a1b001f2"
   },
   "outputs": [
    {
     "name": "stdout",
     "output_type": "stream",
     "text": [
      "+--------+-----------+-------+---------------------+--------+-------------+----------+\n",
      "|ID_Order|ID_Customer|ID_Item|DateTime_CartFinalize|      id|selling_price|product_id|\n",
      "+--------+-----------+-------+---------------------+--------+-------------+----------+\n",
      "| 8485450|    1171373| 197348|  2017-09-08 13:25:37|18751958|       750000|    197348|\n",
      "| 7601472|    3696341| 197348|  2017-06-18 23:09:34|18751958|       750000|    197348|\n",
      "| 2310382|    1280801|  31707|  2015-07-14 23:28:33|18750705|     19950000|     31707|\n",
      "| 2456688|     482960|  31707|  2015-08-19 21:03:24|18750705|     19950000|     31707|\n",
      "| 1485949|    1232026|  31707|  2014-10-29 18:41:23|18750705|     19950000|     31707|\n",
      "| 2506253|     605225|  31707|  2015-08-31 21:49:58|18750705|     19950000|     31707|\n",
      "| 1819620|     837421|  31707|  2015-03-04 15:08:47|18750705|     19950000|     31707|\n",
      "| 2859455|     475950|  31707|  2015-11-14 23:54:23|18750705|     19950000|     31707|\n",
      "| 2453887|     800098|  31707|  2015-08-19 04:01:13|18750705|     19950000|     31707|\n",
      "| 1672413|    1372849|  31707|  2015-01-21 12:14:17|18750705|     19950000|     31707|\n",
      "| 1698170|     906015|  31707|  2015-01-29 11:38:33|18750705|     19950000|     31707|\n",
      "| 3422478|    3553135|   7793|  2016-02-14 12:15:36|18750371|       180000|      7793|\n",
      "| 5621715|    1067185| 158116|  2016-12-03 21:23:41|18750112|       180000|    158116|\n",
      "|10079845|    3020682| 395635|  2017-12-19 22:49:16|18750027|       700000|    395635|\n",
      "|23636704|     756176| 714472|  2018-10-28 17:29:05|18748560|       170000|    714472|\n",
      "|10754780|    1394308| 281581|  2018-01-23 12:58:38|18748537|      1270000|    281581|\n",
      "| 7616915|    4692314| 281581|  2017-06-20 11:54:59|18748537|      1270000|    281581|\n",
      "|12082291|    3371841| 281581|  2018-03-27 22:49:32|18748537|      1270000|    281581|\n",
      "| 6724903|    3489562| 299200|  2017-03-12 14:52:32|18748143|       710000|    299200|\n",
      "|12805181|    7124824| 598079|  2018-05-07 17:33:02|18748089|       350000|    598079|\n",
      "+--------+-----------+-------+---------------------+--------+-------------+----------+\n",
      "only showing top 20 rows\n",
      "\n"
     ]
    }
   ],
   "source": [
    "join_df = orders_df.join(tarikhe_kharid_df, orders_df.ID_Item == tarikhe_kharid_df.product_id)\n",
    "\n",
    "# Show the resulting dataframe\n",
    "join_df.show()"
   ]
  },
  {
   "cell_type": "code",
   "execution_count": null,
   "metadata": {
    "colab": {
     "base_uri": "https://localhost:8080/"
    },
    "id": "CT23mOqLuSO2",
    "outputId": "99119e38-044d-42d5-b6fd-973e1357ffdd"
   },
   "outputs": [
    {
     "data": {
      "text/plain": [
       "Row(product_id='179064', count=34095)"
      ]
     },
     "execution_count": 25,
     "metadata": {},
     "output_type": "execute_result"
    }
   ],
   "source": [
    "orders_count = join_df.groupBy('product_id').count()\n",
    "orders_count.orderBy(desc('count')).first()\n"
   ]
  },
  {
   "cell_type": "code",
   "execution_count": null,
   "metadata": {
    "id": "cVf0g4fGiCoM"
   },
   "outputs": [],
   "source": [
    "from pyspark.sql.functions import when\n",
    "df=join_df.withColumn(\"type\", when((join_df.DateTime_CartFinalize < '2015')\n",
    "                            , lit(\"old\")).when((join_df.DateTime_CartFinalize > '2015')\n",
    "                            & (join_df.DateTime_CartFinalize < '2017'), lit(\"not_old\")).otherwise(lit(\"new\")))\n"
   ]
  },
  {
   "cell_type": "code",
   "execution_count": null,
   "metadata": {
    "colab": {
     "base_uri": "https://localhost:8080/"
    },
    "id": "ZJuWQ99CoBCg",
    "outputId": "91878c32-c14f-4306-afa4-8e8e7fb21cd4"
   },
   "outputs": [
    {
     "name": "stdout",
     "output_type": "stream",
     "text": [
      "+--------+-----------+-------+---------------------+--------+-------------+----------+-------+\n",
      "|ID_Order|ID_Customer|ID_Item|DateTime_CartFinalize|      id|selling_price|product_id|   type|\n",
      "+--------+-----------+-------+---------------------+--------+-------------+----------+-------+\n",
      "| 8485450|    1171373| 197348|  2017-09-08 13:25:37|18751958|       750000|    197348|    new|\n",
      "| 7601472|    3696341| 197348|  2017-06-18 23:09:34|18751958|       750000|    197348|    new|\n",
      "| 2310382|    1280801|  31707|  2015-07-14 23:28:33|18750705|     19950000|     31707|not_old|\n",
      "| 2456688|     482960|  31707|  2015-08-19 21:03:24|18750705|     19950000|     31707|not_old|\n",
      "| 1485949|    1232026|  31707|  2014-10-29 18:41:23|18750705|     19950000|     31707|    old|\n",
      "| 2506253|     605225|  31707|  2015-08-31 21:49:58|18750705|     19950000|     31707|not_old|\n",
      "| 1819620|     837421|  31707|  2015-03-04 15:08:47|18750705|     19950000|     31707|not_old|\n",
      "| 2859455|     475950|  31707|  2015-11-14 23:54:23|18750705|     19950000|     31707|not_old|\n",
      "| 2453887|     800098|  31707|  2015-08-19 04:01:13|18750705|     19950000|     31707|not_old|\n",
      "| 1672413|    1372849|  31707|  2015-01-21 12:14:17|18750705|     19950000|     31707|not_old|\n",
      "| 1698170|     906015|  31707|  2015-01-29 11:38:33|18750705|     19950000|     31707|not_old|\n",
      "| 3422478|    3553135|   7793|  2016-02-14 12:15:36|18750371|       180000|      7793|not_old|\n",
      "| 5621715|    1067185| 158116|  2016-12-03 21:23:41|18750112|       180000|    158116|not_old|\n",
      "|10079845|    3020682| 395635|  2017-12-19 22:49:16|18750027|       700000|    395635|    new|\n",
      "|23636704|     756176| 714472|  2018-10-28 17:29:05|18748560|       170000|    714472|    new|\n",
      "|10754780|    1394308| 281581|  2018-01-23 12:58:38|18748537|      1270000|    281581|    new|\n",
      "| 7616915|    4692314| 281581|  2017-06-20 11:54:59|18748537|      1270000|    281581|    new|\n",
      "|12082291|    3371841| 281581|  2018-03-27 22:49:32|18748537|      1270000|    281581|    new|\n",
      "| 6724903|    3489562| 299200|  2017-03-12 14:52:32|18748143|       710000|    299200|    new|\n",
      "|12805181|    7124824| 598079|  2018-05-07 17:33:02|18748089|       350000|    598079|    new|\n",
      "+--------+-----------+-------+---------------------+--------+-------------+----------+-------+\n",
      "only showing top 20 rows\n",
      "\n"
     ]
    }
   ],
   "source": [
    "df.show()"
   ]
  },
  {
   "cell_type": "code",
   "execution_count": null,
   "metadata": {
    "colab": {
     "base_uri": "https://localhost:8080/"
    },
    "id": "Ar-mbWsyEtXY",
    "outputId": "7d4af1b1-794d-4211-af3e-47ed4721549f"
   },
   "outputs": [
    {
     "name": "stdout",
     "output_type": "stream",
     "text": [
      "+--------+-----------+-------+---------------------+--------+-------------+----------+-------+---------+\n",
      "|ID_Order|ID_Customer|ID_Item|DateTime_CartFinalize|      id|selling_price|product_id|   type|datesDiff|\n",
      "+--------+-----------+-------+---------------------+--------+-------------+----------+-------+---------+\n",
      "| 8485450|    1171373| 197348|  2017-09-08 13:25:37|18751958|       750000|    197348|    new|     2246|\n",
      "| 7601472|    3696341| 197348|  2017-06-18 23:09:34|18751958|       750000|    197348|    new|     2328|\n",
      "| 2310382|    1280801|  31707|  2015-07-14 23:28:33|18750705|     19950000|     31707|not_old|     3033|\n",
      "| 2456688|     482960|  31707|  2015-08-19 21:03:24|18750705|     19950000|     31707|not_old|     2997|\n",
      "| 1485949|    1232026|  31707|  2014-10-29 18:41:23|18750705|     19950000|     31707|    old|     3291|\n",
      "| 2506253|     605225|  31707|  2015-08-31 21:49:58|18750705|     19950000|     31707|not_old|     2985|\n",
      "| 1819620|     837421|  31707|  2015-03-04 15:08:47|18750705|     19950000|     31707|not_old|     3165|\n",
      "| 2859455|     475950|  31707|  2015-11-14 23:54:23|18750705|     19950000|     31707|not_old|     2910|\n",
      "| 2453887|     800098|  31707|  2015-08-19 04:01:13|18750705|     19950000|     31707|not_old|     2997|\n",
      "| 1672413|    1372849|  31707|  2015-01-21 12:14:17|18750705|     19950000|     31707|not_old|     3207|\n",
      "| 1698170|     906015|  31707|  2015-01-29 11:38:33|18750705|     19950000|     31707|not_old|     3199|\n",
      "| 3422478|    3553135|   7793|  2016-02-14 12:15:36|18750371|       180000|      7793|not_old|     2818|\n",
      "| 5621715|    1067185| 158116|  2016-12-03 21:23:41|18750112|       180000|    158116|not_old|     2525|\n",
      "|10079845|    3020682| 395635|  2017-12-19 22:49:16|18750027|       700000|    395635|    new|     2144|\n",
      "|23636704|     756176| 714472|  2018-10-28 17:29:05|18748560|       170000|    714472|    new|     1831|\n",
      "|10754780|    1394308| 281581|  2018-01-23 12:58:38|18748537|      1270000|    281581|    new|     2109|\n",
      "| 7616915|    4692314| 281581|  2017-06-20 11:54:59|18748537|      1270000|    281581|    new|     2326|\n",
      "|12082291|    3371841| 281581|  2018-03-27 22:49:32|18748537|      1270000|    281581|    new|     2046|\n",
      "| 6724903|    3489562| 299200|  2017-03-12 14:52:32|18748143|       710000|    299200|    new|     2426|\n",
      "|12805181|    7124824| 598079|  2018-05-07 17:33:02|18748089|       350000|    598079|    new|     2005|\n",
      "+--------+-----------+-------+---------------------+--------+-------------+----------+-------+---------+\n",
      "only showing top 20 rows\n",
      "\n"
     ]
    }
   ],
   "source": [
    "from pyspark.sql.functions import datediff, current_date\n",
    "\n",
    "# making datesDiff\n",
    "df = df.withColumn(\"datesDiff\", datediff(current_date(), df[\"DateTime_CartFinalize\"]))\n",
    "\n",
    "df.show()\n"
   ]
  },
  {
   "cell_type": "code",
   "execution_count": null,
   "metadata": {
    "colab": {
     "base_uri": "https://localhost:8080/"
    },
    "id": "orPHHL-OcXmV",
    "outputId": "efaa78f2-c15c-4b63-d141-0ccd9f8be729"
   },
   "outputs": [
    {
     "data": {
      "text/plain": [
       "480"
      ]
     },
     "execution_count": 33,
     "metadata": {},
     "output_type": "execute_result"
    }
   ],
   "source": [
    "df.filter(df.selling_price==710000).count()"
   ]
  },
  {
   "cell_type": "markdown",
   "metadata": {
    "id": "XsOWMesCei8R"
   },
   "source": [
    "*************************************************************************************"
   ]
  },
  {
   "cell_type": "code",
   "execution_count": null,
   "metadata": {
    "colab": {
     "base_uri": "https://localhost:8080/"
    },
    "id": "-HYnp0VsGlQv",
    "outputId": "5849a158-8435-48f7-b299-ae7d3391eeb8"
   },
   "outputs": [
    {
     "name": "stdout",
     "output_type": "stream",
     "text": [
      "Test Accuracy: 0.92\n"
     ]
    }
   ],
   "source": [
    "from pyspark import SparkFiles\n",
    "\n",
    "from pyspark.sql import SparkSession\n",
    "from pyspark.ml.feature import StringIndexer, VectorAssembler, OneHotEncoder\n",
    "from pyspark.ml.classification import DecisionTreeClassifier\n",
    "from pyspark.ml.evaluation import MulticlassClassificationEvaluator\n",
    "\n",
    "# Create a Spark session\n",
    "spark = SparkSession.builder.appName(\"Decision Tree Model\").getOrCreate()\n",
    "\n",
    "# Load the Iris dataset\n",
    "url = \"https://raw.githubusercontent.com/selva86/datasets/master/Iris.csv\"\n",
    "spark.sparkContext.addFile(url)\n",
    "\n",
    "# Read the dataset into a DataFrame\n",
    "df = spark.read.csv(\"file://\" + SparkFiles.get(\"Iris.csv\"), header=True, inferSchema=True)\n",
    "\n",
    "# Preprocessing: StringIndexer for categorical labels\n",
    "label_indexer = StringIndexer(inputCol=\"Species\", outputCol=\"label\")\n",
    "data = label_indexer.fit(df).transform(df)\n",
    "\n",
    "# Preprocessing: VectorAssembler for feature columns\n",
    "assembler = VectorAssembler(inputCols=[\"SepalLengthCm\", \"SepalWidthCm\", \"PetalLengthCm\", \"PetalWidthCm\"], outputCol=\"features\")\n",
    "data = assembler.transform(data)\n",
    "\n",
    "# Split data into training and testing sets\n",
    "train_data, test_data = data.randomSplit([0.8, 0.2], seed=42)\n",
    "\n",
    "# Create a Decision Tree Classifier instance\n",
    "dt_classifier = DecisionTreeClassifier(labelCol=\"label\", featuresCol=\"features\")\n",
    "\n",
    "# Train the model\n",
    "model = dt_classifier.fit(train_data)\n",
    "\n",
    "# Make predictions on the test data\n",
    "predictions = model.transform(test_data)\n",
    "\n",
    "# Evaluate the model performance\n",
    "evaluator = MulticlassClassificationEvaluator(labelCol=\"label\", predictionCol=\"prediction\", metricName=\"accuracy\")\n",
    "accuracy = evaluator.evaluate(predictions)\n",
    "\n",
    "print(f\"Test Accuracy: {accuracy:.2f}\")\n"
   ]
  }
 ],
 "metadata": {
  "colab": {
   "provenance": []
  },
  "kernelspec": {
   "display_name": "Python 3",
   "name": "python3"
  },
  "language_info": {
   "name": "python"
  }
 },
 "nbformat": 4,
 "nbformat_minor": 0
}
